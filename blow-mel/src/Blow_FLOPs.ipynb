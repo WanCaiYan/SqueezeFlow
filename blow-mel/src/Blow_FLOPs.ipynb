{
  "nbformat": 4,
  "nbformat_minor": 0,
  "metadata": {
    "colab": {
      "name": "Blow FLOPs.ipynb",
      "provenance": [],
      "collapsed_sections": [],
      "machine_shape": "hm"
    },
    "kernelspec": {
      "name": "python3",
      "display_name": "Python 3"
    }
  },
  "cells": [
    {
      "cell_type": "markdown",
      "metadata": {
        "id": "-gJYAgSieAnS",
        "colab_type": "text"
      },
      "source": [
        "# Original Blow flops"
      ]
    },
    {
      "cell_type": "code",
      "metadata": {
        "id": "iM7fe22FSHd-",
        "colab_type": "code",
        "colab": {}
      },
      "source": [
        "import numpy as np"
      ],
      "execution_count": 0,
      "outputs": []
    },
    {
      "cell_type": "code",
      "metadata": {
        "id": "XC76-DAOAGos",
        "colab_type": "code",
        "outputId": "11858b9a-a9b6-4654-a0af-381141371d2d",
        "colab": {
          "base_uri": "https://localhost:8080/",
          "height": 102
        }
      },
      "source": [
        "L = 4096 # audio length\n",
        "\n",
        "n_flows = 12\n",
        "n_layers = 8\n",
        "\n",
        "duration = 0.725\n",
        "\n",
        "n_audio_channels = [2,4,8,16,32,64,128,256]\n",
        "nsqs = [n // 2 for n in n_audio_channels]\n",
        "\n",
        "\n",
        "# invertible convs\n",
        "inv1x1 = np.sum([L * n * n * n_flows for n in n_audio_channels])\n",
        "print('MACs of invertible conv layers', inv1x1 / 1e9)\n",
        "\n",
        "# adapt_w\n",
        "adapt_w = 128 * 1536 * n_flows * n_layers\n",
        "adapt_b = 128 * 512 * n_flows * n_layers\n",
        "print('MACs of adapt layers', (adapt_w + adapt_b) / 1e9)\n",
        "\n",
        "# hyperconv\n",
        "hyper = np.sum([L // 2 * 3 * n * 512 * n_flows for n in nsqs])\n",
        "print('MACs of hyper layers', hyper / 1e9)\n",
        "\n",
        "# coupling net\n",
        "conv1 = L // 2 * 1 * 512 * 512 * n_layers * n_flows\n",
        "conv2 = np.sum([L // 2 * 3 * 512 * n * n_flows for n in n_audio_channels])\n",
        "print('MACs of coupling layers', (conv1 + conv2) / 1e9)\n",
        "\n",
        "total_macs = inv1x1 + adapt_w + adapt_b + hyper + conv1 + conv2\n",
        "print('Total MACs', total_macs / 1e9)"
      ],
      "execution_count": 0,
      "outputs": [
        {
          "output_type": "stream",
          "text": [
            "MACs of invertible conv layers 4.29490176\n",
            "MACs of adapt layers 0.025165824\n",
            "MACs of hyper layers 9.62592768\n",
            "MACs of coupling layers 70.791462912\n",
            "Total MACs 84.737458176\n"
          ],
          "name": "stdout"
        }
      ]
    },
    {
      "cell_type": "markdown",
      "metadata": {
        "id": "4SySeknIYKep",
        "colab_type": "text"
      },
      "source": [
        "Blow-mel"
      ]
    },
    {
      "cell_type": "code",
      "metadata": {
        "id": "XToxdRFGYJb7",
        "colab_type": "code",
        "outputId": "cc21a556-47c9-45a7-dff7-129d599fac7a",
        "colab": {
          "base_uri": "https://localhost:8080/",
          "height": 102
        }
      },
      "source": [
        "L = 64 # mel length\n",
        "\n",
        "n_flows = 12\n",
        "n_layers = 8\n",
        "\n",
        "duration = 0.725\n",
        "\n",
        "n_audio_channels = [80] * 8\n",
        "nsqs = [n // 2 for n in n_audio_channels]\n",
        "\n",
        "\n",
        "# invertible convs\n",
        "inv1x1 = np.sum([L * n * n * n_flows for n in n_audio_channels])\n",
        "print('MACs of invertible conv layers', inv1x1 / 1e9)\n",
        "\n",
        "# adapt_w\n",
        "adapt_w = 128 * 1440 * n_flows * n_layers\n",
        "adapt_b = 128 * 480 * n_flows * n_layers\n",
        "print('MACs of adapt layers', (adapt_w + adapt_b) / 1e9)\n",
        "\n",
        "# hyperconv\n",
        "hyper = np.sum([L // 2 * 3 * n * 480 * n_flows for n in nsqs])\n",
        "print('MACs of hyper layers', hyper / 1e9)\n",
        "\n",
        "# coupling net\n",
        "conv1 = L // 2 * 1 * 480 * 480 * n_layers * n_flows\n",
        "conv2 = np.sum([L // 2 * 3 * 480 * n * n_flows for n in n_audio_channels])\n",
        "print('MACs of coupling layers', (conv1 + conv2) / 1e9)\n",
        "\n",
        "total_macs = inv1x1 + adapt_w + adapt_b + hyper + conv1 + conv2\n",
        "print('Total MACs', total_macs / 1e9)"
      ],
      "execution_count": 0,
      "outputs": [
        {
          "output_type": "stream",
          "text": [
            "MACs of invertible conv layers 0.0393216\n",
            "MACs of adapt layers 0.02359296\n",
            "MACs of hyper layers 0.1769472\n",
            "MACs of coupling layers 1.0616832\n",
            "Total MACs 1.30154496\n"
          ],
          "name": "stdout"
        }
      ]
    },
    {
      "cell_type": "code",
      "metadata": {
        "id": "ZFBEUMMMm3jH",
        "colab_type": "code",
        "colab": {}
      },
      "source": [
        ""
      ],
      "execution_count": 0,
      "outputs": []
    }
  ]
}